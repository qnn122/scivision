{
 "cells": [
  {
   "cell_type": "markdown",
   "metadata": {},
   "source": [
    "# How to use `scivision`\n",
    "\n",
    "In this notebook, we will:\n",
    "\n",
    "1. Demonstrate using the scivision [Python API](https://scivision.readthedocs.io/en/latest/api.html) to load several pretrained image classification models\n",
    "2. Use the scivision catalog to find a matching dataset, which the model can be run on\n",
    "3. Run the model on the data, performing simple model inference\n",
    "4. Use the scivision catalog to find another model that can be run on the same dataset"
   ]
  },
  {
   "cell_type": "markdown",
   "metadata": {},
   "source": [
    "First let's import some things from scivision: `default_catalog` is a scivision **catalog** that will let us discover models and datasets, and `load_pretrained_model` provides a convenient way to load and run a model."
   ]
  },
  {
   "cell_type": "code",
   "execution_count": 1,
   "metadata": {},
   "outputs": [],
   "source": [
    "from scivision import default_catalog, load_pretrained_model"
   ]
  },
  {
   "cell_type": "markdown",
   "metadata": {},
   "source": [
    "## Inspecting our model in the scivision catalog\n",
    "\n",
    "A scivision catalog is a collection of **models** and **datasources**.\n",
    "\n",
    "For this example, we want to find datasources compatible with the model catalog entry \"image-classifiers\".  But first, let's use the catalog to retrive the \"image-classifiers\" repository url and take a look at the data contained in the *default catalog* (the built-in catalog, distributed as part of scivision) and see how this is structured."
   ]
  },
  {
   "cell_type": "code",
   "execution_count": 12,
   "metadata": {},
   "outputs": [
    {
     "data": {
      "text/plain": [
       "FlexibleUrl('https://github.com/alan-turing-institute/scivision_classifier', scheme='https', host='github.com', tld='com', host_type='domain', path='/alan-turing-institute/scivision_classifier')"
      ]
     },
     "execution_count": 12,
     "metadata": {},
     "output_type": "execute_result"
    }
   ],
   "source": [
    "# Get the model repo url\n",
    "model_name = \"\" # add the name of the added model\n",
    "models_catalog = default_catalog.models.to_dataframe()\n",
    "model_repo = models_catalog[models_catalog.name == model_name].url.item()\n",
    "model_repo # Why not paste the repo link into your browser and see how it looks?"
   ]
  },
  {
   "cell_type": "code",
   "execution_count": 13,
   "metadata": {},
   "outputs": [
    {
     "data": {
      "text/html": [
       "<div>\n",
       "<style scoped>\n",
       "    .dataframe tbody tr th:only-of-type {\n",
       "        vertical-align: middle;\n",
       "    }\n",
       "\n",
       "    .dataframe tbody tr th {\n",
       "        vertical-align: top;\n",
       "    }\n",
       "\n",
       "    .dataframe thead th {\n",
       "        text-align: right;\n",
       "    }\n",
       "</style>\n",
       "<table border=\"1\" class=\"dataframe\">\n",
       "  <thead>\n",
       "    <tr style=\"text-align: right;\">\n",
       "      <th></th>\n",
       "      <th>name</th>\n",
       "      <th>description</th>\n",
       "      <th>tasks</th>\n",
       "      <th>url</th>\n",
       "      <th>pkg_url</th>\n",
       "      <th>format</th>\n",
       "      <th>pretrained</th>\n",
       "      <th>labels_required</th>\n",
       "      <th>institution</th>\n",
       "      <th>tags</th>\n",
       "    </tr>\n",
       "  </thead>\n",
       "  <tbody>\n",
       "    <tr>\n",
       "      <th>8</th>\n",
       "      <td>image-classifiers</td>\n",
       "      <td>None</td>\n",
       "      <td>(TaskEnum.classificiation,)</td>\n",
       "      <td>https://github.com/alan-turing-institute/scivi...</td>\n",
       "      <td>git+https://github.com/alan-turing-institute/s...</td>\n",
       "      <td>image</td>\n",
       "      <td>True</td>\n",
       "      <td>False</td>\n",
       "      <td>(alan-turing-institute,)</td>\n",
       "      <td>(classification, 2D, image)</td>\n",
       "    </tr>\n",
       "  </tbody>\n",
       "</table>\n",
       "</div>"
      ],
      "text/plain": [
       "                name description                        tasks  \\\n",
       "8  image-classifiers        None  (TaskEnum.classificiation,)   \n",
       "\n",
       "                                                 url  \\\n",
       "8  https://github.com/alan-turing-institute/scivi...   \n",
       "\n",
       "                                             pkg_url format  pretrained  \\\n",
       "8  git+https://github.com/alan-turing-institute/s...  image        True   \n",
       "\n",
       "   labels_required               institution                         tags  \n",
       "8            False  (alan-turing-institute,)  (classification, 2D, image)  "
      ]
     },
     "execution_count": 13,
     "metadata": {},
     "output_type": "execute_result"
    }
   ],
   "source": [
    "# Inspecting model entry and its metadata in the default catalog\n",
    "models_catalog[models_catalog.name == model_name]"
   ]
  },
  {
   "cell_type": "markdown",
   "metadata": {},
   "source": [
    "## Loading the model\n",
    "\n",
    "Some model entries in the scivision catalog contain a single loadable model. Here, let's load the \"image-classifiers\" entry, which contains each of the models in the [image-classifiers](https://pypi.org/project/image-classifiers/) package. We can do this with the `load_pretrained_model` function. We'll load 2 models (`resnet18` and `densenet121`).\n",
    "\n",
    "Note: the \"model\" arg is not mandatory and will have a default value for any model catalog entries that have more than one model - for model catalog entries with a single model, this need not be set:"
   ]
  },
  {
   "cell_type": "code",
   "execution_count": 4,
   "metadata": {},
   "outputs": [],
   "source": [
    "# Note: when loading this model repo for the first time you'll need to add the allow_install=True flag\n",
    "butterfly_model = \"efficientNetB3\" # name given to the butterfly model\n",
    "\n",
    "butterfly_model = load_pretrained_model(model_repo, model=butterfly_model)\n",
    "#densenet_model = load_pretrained_model(model_repo, model='densenet121')"
   ]
  },
  {
   "cell_type": "code",
   "execution_count": null,
   "metadata": {},
   "outputs": [],
   "source": [
    "!pip install -e git+https://github.com/alan-turing-institute/scivision_classifier@main#egg=scivision_classifier"
   ]
  },
  {
   "cell_type": "code",
   "execution_count": 5,
   "metadata": {
    "pycharm": {
     "name": "#%%\n"
    }
   },
   "outputs": [
    {
     "data": {
      "text/plain": [
       "scivision.PretrainedModel( \n",
       "  module='scivision_classifier', \n",
       "  model='resnet18', \n",
       "  source='https://github.com/alan-turing-institute/scivision_classifier' \n",
       "  pipe='DataPipe(input=<Parameter \"X: numpy.ndarray\">, output=<Parameter \"image: numpy.ndarray\">)' \n",
       ")"
      ]
     },
     "execution_count": 5,
     "metadata": {},
     "output_type": "execute_result"
    }
   ],
   "source": [
    "# let's explore one of the model objects\n",
    "resnet_model"
   ]
  },
  {
   "cell_type": "markdown",
   "metadata": {},
   "source": [
    "Later, we'll use these models to make predictions on image data found in the scivision catalog."
   ]
  },
  {
   "cell_type": "markdown",
   "metadata": {},
   "source": [
    "## Query the default scivision data catalog"
   ]
  },
  {
   "cell_type": "markdown",
   "metadata": {},
   "source": [
    "Now let's use the `default_catalog` to identify datasources in the catalog that are compatible with our models (based on `tasks`, `format` and `labels_provided`/`labels_required`)."
   ]
  },
  {
   "cell_type": "code",
   "execution_count": 6,
   "metadata": {},
   "outputs": [
    {
     "data": {
      "text/html": [
       "<div>\n",
       "<style scoped>\n",
       "    .dataframe tbody tr th:only-of-type {\n",
       "        vertical-align: middle;\n",
       "    }\n",
       "\n",
       "    .dataframe tbody tr th {\n",
       "        vertical-align: top;\n",
       "    }\n",
       "\n",
       "    .dataframe thead th {\n",
       "        text-align: right;\n",
       "    }\n",
       "</style>\n",
       "<table border=\"1\" class=\"dataframe\">\n",
       "  <thead>\n",
       "    <tr style=\"text-align: right;\">\n",
       "      <th></th>\n",
       "      <th>name</th>\n",
       "      <th>description</th>\n",
       "      <th>tasks</th>\n",
       "      <th>labels_provided</th>\n",
       "      <th>domains</th>\n",
       "      <th>url</th>\n",
       "      <th>format</th>\n",
       "      <th>institution</th>\n",
       "      <th>tags</th>\n",
       "    </tr>\n",
       "  </thead>\n",
       "  <tbody>\n",
       "    <tr>\n",
       "      <th>2</th>\n",
       "      <td>data-002</td>\n",
       "      <td>None</td>\n",
       "      <td>(TaskEnum.classificiation)</td>\n",
       "      <td>True</td>\n",
       "      <td>(oceanography,)</td>\n",
       "      <td>https://github.com/scotthosking/intake-plankto...</td>\n",
       "      <td>image</td>\n",
       "      <td>(CEFAS,)</td>\n",
       "      <td>(help-needed, 2D)</td>\n",
       "    </tr>\n",
       "    <tr>\n",
       "      <th>3</th>\n",
       "      <td>data-003</td>\n",
       "      <td>Koala</td>\n",
       "      <td>(TaskEnum.object_detection, TaskEnum.classific...</td>\n",
       "      <td>True</td>\n",
       "      <td>(computer-vision,)</td>\n",
       "      <td>https://github.com/alan-turing-institute/scivi...</td>\n",
       "      <td>image</td>\n",
       "      <td>(Wikipedia by Erik Veland,)</td>\n",
       "      <td>(demo,)</td>\n",
       "    </tr>\n",
       "    <tr>\n",
       "      <th>4</th>\n",
       "      <td>data-004</td>\n",
       "      <td>Sample dataset of Plankton required to demonst...</td>\n",
       "      <td>(TaskEnum.classificiation)</td>\n",
       "      <td>True</td>\n",
       "      <td>(computer-vision,)</td>\n",
       "      <td>https://raw.githubusercontent.com/alan-turing-...</td>\n",
       "      <td>image</td>\n",
       "      <td>(Centre for Environment, Fisheries and Aquacul...</td>\n",
       "      <td>(2D, plankton, ecology, environmental-science)</td>\n",
       "    </tr>\n",
       "    <tr>\n",
       "      <th>5</th>\n",
       "      <td>data-005</td>\n",
       "      <td>Sample dataset of satellite imagery required t...</td>\n",
       "      <td>(TaskEnum.segmentation, TaskEnum.classificiation)</td>\n",
       "      <td>False</td>\n",
       "      <td>(computer-vision, earth-observation, ecology)</td>\n",
       "      <td>https://github.com/MartinSJRogers/VEdge_Detect...</td>\n",
       "      <td>image</td>\n",
       "      <td>(Cambridge University,)</td>\n",
       "      <td>(2D, satellite, remote-sensing, ecology, envir...</td>\n",
       "    </tr>\n",
       "  </tbody>\n",
       "</table>\n",
       "</div>"
      ],
      "text/plain": [
       "       name                                        description  \\\n",
       "2  data-002                                               None   \n",
       "3  data-003                                              Koala   \n",
       "4  data-004  Sample dataset of Plankton required to demonst...   \n",
       "5  data-005  Sample dataset of satellite imagery required t...   \n",
       "\n",
       "                                               tasks  labels_provided  \\\n",
       "2                         (TaskEnum.classificiation)             True   \n",
       "3  (TaskEnum.object_detection, TaskEnum.classific...             True   \n",
       "4                         (TaskEnum.classificiation)             True   \n",
       "5  (TaskEnum.segmentation, TaskEnum.classificiation)            False   \n",
       "\n",
       "                                         domains  \\\n",
       "2                                (oceanography,)   \n",
       "3                             (computer-vision,)   \n",
       "4                             (computer-vision,)   \n",
       "5  (computer-vision, earth-observation, ecology)   \n",
       "\n",
       "                                                 url format  \\\n",
       "2  https://github.com/scotthosking/intake-plankto...  image   \n",
       "3  https://github.com/alan-turing-institute/scivi...  image   \n",
       "4  https://raw.githubusercontent.com/alan-turing-...  image   \n",
       "5  https://github.com/MartinSJRogers/VEdge_Detect...  image   \n",
       "\n",
       "                                         institution  \\\n",
       "2                                           (CEFAS,)   \n",
       "3                        (Wikipedia by Erik Veland,)   \n",
       "4  (Centre for Environment, Fisheries and Aquacul...   \n",
       "5                            (Cambridge University,)   \n",
       "\n",
       "                                                tags  \n",
       "2                                  (help-needed, 2D)  \n",
       "3                                            (demo,)  \n",
       "4     (2D, plankton, ecology, environmental-science)  \n",
       "5  (2D, satellite, remote-sensing, ecology, envir...  "
      ]
     },
     "execution_count": 6,
     "metadata": {},
     "output_type": "execute_result"
    }
   ],
   "source": [
    "compatible_datasources = default_catalog.compatible_datasources(\"image-classifiers\").to_dataframe()\n",
    "compatible_datasources"
   ]
  },
  {
   "cell_type": "markdown",
   "metadata": {},
   "source": [
    "Let's use `data-003`, an image dataset containing a single image of a Koala."
   ]
  },
  {
   "cell_type": "code",
   "execution_count": 7,
   "metadata": {
    "pycharm": {
     "name": "#%%\n"
    }
   },
   "outputs": [
    {
     "data": {
      "text/html": [
       "<div>\n",
       "<style scoped>\n",
       "    .dataframe tbody tr th:only-of-type {\n",
       "        vertical-align: middle;\n",
       "    }\n",
       "\n",
       "    .dataframe tbody tr th {\n",
       "        vertical-align: top;\n",
       "    }\n",
       "\n",
       "    .dataframe thead th {\n",
       "        text-align: right;\n",
       "    }\n",
       "</style>\n",
       "<table border=\"1\" class=\"dataframe\">\n",
       "  <thead>\n",
       "    <tr style=\"text-align: right;\">\n",
       "      <th></th>\n",
       "      <th>name</th>\n",
       "      <th>description</th>\n",
       "      <th>tasks</th>\n",
       "      <th>labels_provided</th>\n",
       "      <th>domains</th>\n",
       "      <th>url</th>\n",
       "      <th>format</th>\n",
       "      <th>institution</th>\n",
       "      <th>tags</th>\n",
       "    </tr>\n",
       "  </thead>\n",
       "  <tbody>\n",
       "    <tr>\n",
       "      <th>3</th>\n",
       "      <td>data-003</td>\n",
       "      <td>Koala</td>\n",
       "      <td>(TaskEnum.object_detection, TaskEnum.classific...</td>\n",
       "      <td>True</td>\n",
       "      <td>(computer-vision,)</td>\n",
       "      <td>https://github.com/alan-turing-institute/scivi...</td>\n",
       "      <td>image</td>\n",
       "      <td>(Wikipedia by Erik Veland,)</td>\n",
       "      <td>(demo,)</td>\n",
       "    </tr>\n",
       "  </tbody>\n",
       "</table>\n",
       "</div>"
      ],
      "text/plain": [
       "       name description                                              tasks  \\\n",
       "3  data-003       Koala  (TaskEnum.object_detection, TaskEnum.classific...   \n",
       "\n",
       "   labels_provided             domains  \\\n",
       "3             True  (computer-vision,)   \n",
       "\n",
       "                                                 url format  \\\n",
       "3  https://github.com/alan-turing-institute/scivi...  image   \n",
       "\n",
       "                   institution     tags  \n",
       "3  (Wikipedia by Erik Veland,)  (demo,)  "
      ]
     },
     "execution_count": 7,
     "metadata": {},
     "output_type": "execute_result"
    }
   ],
   "source": [
    "target_datasource = compatible_datasources.loc[compatible_datasources['name'] == 'data-003']\n",
    "target_datasource"
   ]
  },
  {
   "cell_type": "markdown",
   "metadata": {},
   "source": [
    "## Load the dataset\n",
    "\n",
    "Now let's load the dataset using the scivision python API, specifically the [load_dataset](https://scivision.readthedocs.io/en/latest/api.html#scivision.io.reader.load_dataset) function, which takes as input the url of the data repository (structured as per [this template](https://scivision.readthedocs.io/en/latest/data_repository_template.html)), which we can get from the target datasource:"
   ]
  },
  {
   "cell_type": "code",
   "execution_count": 18,
   "metadata": {},
   "outputs": [],
   "source": [
    "from scivision import load_dataset"
   ]
  },
  {
   "cell_type": "code",
   "execution_count": 11,
   "metadata": {},
   "outputs": [
    {
     "data": {
      "text/html": [
       "<div>\n",
       "<style scoped>\n",
       "    .dataframe tbody tr th:only-of-type {\n",
       "        vertical-align: middle;\n",
       "    }\n",
       "\n",
       "    .dataframe tbody tr th {\n",
       "        vertical-align: top;\n",
       "    }\n",
       "\n",
       "    .dataframe thead th {\n",
       "        text-align: right;\n",
       "    }\n",
       "</style>\n",
       "<table border=\"1\" class=\"dataframe\">\n",
       "  <thead>\n",
       "    <tr style=\"text-align: right;\">\n",
       "      <th></th>\n",
       "      <th>name</th>\n",
       "      <th>description</th>\n",
       "      <th>tasks</th>\n",
       "      <th>labels_provided</th>\n",
       "      <th>domains</th>\n",
       "      <th>url</th>\n",
       "      <th>format</th>\n",
       "      <th>institution</th>\n",
       "      <th>tags</th>\n",
       "    </tr>\n",
       "  </thead>\n",
       "  <tbody>\n",
       "    <tr>\n",
       "      <th>0</th>\n",
       "      <td>data-000</td>\n",
       "      <td>None</td>\n",
       "      <td>(TaskEnum.segmentation, TaskEnum.object_detect...</td>\n",
       "      <td>True</td>\n",
       "      <td>(optical-microscopy,)</td>\n",
       "      <td>https://github.com/stardist/stardist/releases/...</td>\n",
       "      <td>image</td>\n",
       "      <td>(epfl,)</td>\n",
       "      <td>(help-needed, 3D, cell, cell-counting, biology...</td>\n",
       "    </tr>\n",
       "  </tbody>\n",
       "</table>\n",
       "</div>"
      ],
      "text/plain": [
       "       name description                                              tasks  \\\n",
       "0  data-000        None  (TaskEnum.segmentation, TaskEnum.object_detect...   \n",
       "\n",
       "   labels_provided                domains  \\\n",
       "0             True  (optical-microscopy,)   \n",
       "\n",
       "                                                 url format institution  \\\n",
       "0  https://github.com/stardist/stardist/releases/...  image     (epfl,)   \n",
       "\n",
       "                                                tags  \n",
       "0  (help-needed, 3D, cell, cell-counting, biology...  "
      ]
     },
     "execution_count": 11,
     "metadata": {},
     "output_type": "execute_result"
    }
   ],
   "source": [
    "name = \"\" # insert dataset name once it is added to the catalog\n",
    "\n",
    "target_datasource = default_catalog.datasources.to_dataframe()\n",
    "target_datasource = target_datasource.loc[target_datasource['name'] == name]\n",
    "\n",
    "target_datasource"
   ]
  },
  {
   "cell_type": "code",
   "execution_count": 16,
   "metadata": {},
   "outputs": [],
   "source": [
    "data_url = target_datasource['url'].item()"
   ]
  },
  {
   "cell_type": "markdown",
   "metadata": {},
   "source": [
    "The returned data config object of the`load_dataset` function is an \"intake catalog\". You can read our [documentation](https://scivision.readthedocs.io/en/latest/data_repository_template.html#data-config-file) to understand this better, but for now, let's inspect this config:"
   ]
  },
  {
   "cell_type": "code",
   "execution_count": 19,
   "metadata": {},
   "outputs": [
    {
     "ename": "FileNotFoundError",
     "evalue": "https://raw.githubusercontent.com/stardist/stardist/main/releases/download/0.3.0/demo3D.zip.scivision/data.yml",
     "output_type": "error",
     "traceback": [
      "\u001b[1;31m---------------------------------------------------------------------------\u001b[0m",
      "\u001b[1;31mClientResponseError\u001b[0m                       Traceback (most recent call last)",
      "File \u001b[1;32m~\\anaconda3\\envs\\scivision\\lib\\site-packages\\fsspec\\implementations\\http.py:391\u001b[0m, in \u001b[0;36mHTTPFileSystem._info\u001b[1;34m(self, url, **kwargs)\u001b[0m\n\u001b[0;32m    389\u001b[0m \u001b[38;5;28;01mtry\u001b[39;00m:\n\u001b[0;32m    390\u001b[0m     info\u001b[38;5;241m.\u001b[39mupdate(\n\u001b[1;32m--> 391\u001b[0m         \u001b[38;5;28;01mawait\u001b[39;00m _file_info(\n\u001b[0;32m    392\u001b[0m             url,\n\u001b[0;32m    393\u001b[0m             size_policy\u001b[38;5;241m=\u001b[39mpolicy,\n\u001b[0;32m    394\u001b[0m             session\u001b[38;5;241m=\u001b[39msession,\n\u001b[0;32m    395\u001b[0m             \u001b[38;5;241m*\u001b[39m\u001b[38;5;241m*\u001b[39m\u001b[38;5;28mself\u001b[39m\u001b[38;5;241m.\u001b[39mkwargs,\n\u001b[0;32m    396\u001b[0m             \u001b[38;5;241m*\u001b[39m\u001b[38;5;241m*\u001b[39mkwargs,\n\u001b[0;32m    397\u001b[0m         )\n\u001b[0;32m    398\u001b[0m     )\n\u001b[0;32m    399\u001b[0m     \u001b[38;5;28;01mif\u001b[39;00m info\u001b[38;5;241m.\u001b[39mget(\u001b[38;5;124m\"\u001b[39m\u001b[38;5;124msize\u001b[39m\u001b[38;5;124m\"\u001b[39m) \u001b[38;5;129;01mis\u001b[39;00m \u001b[38;5;129;01mnot\u001b[39;00m \u001b[38;5;28;01mNone\u001b[39;00m:\n",
      "File \u001b[1;32m~\\anaconda3\\envs\\scivision\\lib\\site-packages\\fsspec\\implementations\\http.py:772\u001b[0m, in \u001b[0;36m_file_info\u001b[1;34m(url, session, size_policy, **kwargs)\u001b[0m\n\u001b[0;32m    771\u001b[0m \u001b[38;5;28;01masync\u001b[39;00m \u001b[38;5;28;01mwith\u001b[39;00m r:\n\u001b[1;32m--> 772\u001b[0m     \u001b[43mr\u001b[49m\u001b[38;5;241;43m.\u001b[39;49m\u001b[43mraise_for_status\u001b[49m\u001b[43m(\u001b[49m\u001b[43m)\u001b[49m\n\u001b[0;32m    774\u001b[0m     \u001b[38;5;66;03m# TODO:\u001b[39;00m\n\u001b[0;32m    775\u001b[0m     \u001b[38;5;66;03m#  recognise lack of 'Accept-Ranges',\u001b[39;00m\n\u001b[0;32m    776\u001b[0m     \u001b[38;5;66;03m#                 or 'Accept-Ranges': 'none' (not 'bytes')\u001b[39;00m\n\u001b[0;32m    777\u001b[0m     \u001b[38;5;66;03m#  to mean streaming only, no random access => return None\u001b[39;00m\n",
      "File \u001b[1;32m~\\anaconda3\\envs\\scivision\\lib\\site-packages\\aiohttp\\client_reqrep.py:1005\u001b[0m, in \u001b[0;36mClientResponse.raise_for_status\u001b[1;34m(self)\u001b[0m\n\u001b[0;32m   1004\u001b[0m \u001b[38;5;28mself\u001b[39m\u001b[38;5;241m.\u001b[39mrelease()\n\u001b[1;32m-> 1005\u001b[0m \u001b[38;5;28;01mraise\u001b[39;00m ClientResponseError(\n\u001b[0;32m   1006\u001b[0m     \u001b[38;5;28mself\u001b[39m\u001b[38;5;241m.\u001b[39mrequest_info,\n\u001b[0;32m   1007\u001b[0m     \u001b[38;5;28mself\u001b[39m\u001b[38;5;241m.\u001b[39mhistory,\n\u001b[0;32m   1008\u001b[0m     status\u001b[38;5;241m=\u001b[39m\u001b[38;5;28mself\u001b[39m\u001b[38;5;241m.\u001b[39mstatus,\n\u001b[0;32m   1009\u001b[0m     message\u001b[38;5;241m=\u001b[39m\u001b[38;5;28mself\u001b[39m\u001b[38;5;241m.\u001b[39mreason,\n\u001b[0;32m   1010\u001b[0m     headers\u001b[38;5;241m=\u001b[39m\u001b[38;5;28mself\u001b[39m\u001b[38;5;241m.\u001b[39mheaders,\n\u001b[0;32m   1011\u001b[0m )\n",
      "\u001b[1;31mClientResponseError\u001b[0m: 404, message='Not Found', url=URL('https://raw.githubusercontent.com/stardist/stardist/main/releases/download/0.3.0/demo3D.zip.scivision/data.yml')",
      "\nThe above exception was the direct cause of the following exception:\n",
      "\u001b[1;31mFileNotFoundError\u001b[0m                         Traceback (most recent call last)",
      "Cell \u001b[1;32mIn [19], line 1\u001b[0m\n\u001b[1;32m----> 1\u001b[0m data_config \u001b[38;5;241m=\u001b[39m load_dataset(data_url)\n\u001b[0;32m      2\u001b[0m data_config\n",
      "File \u001b[1;32m~\\scivision\\scivision\\io\\reader.py:214\u001b[0m, in \u001b[0;36mload_dataset\u001b[1;34m(path, branch)\u001b[0m\n\u001b[0;32m    211\u001b[0m \u001b[38;5;66;03m# fsspec will throw an error if the path does not exist\u001b[39;00m\n\u001b[0;32m    212\u001b[0m fsspec\u001b[38;5;241m.\u001b[39mopen(path)\n\u001b[1;32m--> 214\u001b[0m intake_cat \u001b[38;5;241m=\u001b[39m \u001b[43mintake\u001b[49m\u001b[38;5;241;43m.\u001b[39;49m\u001b[43mopen_catalog\u001b[49m\u001b[43m(\u001b[49m\u001b[43mpath\u001b[49m\u001b[43m)\u001b[49m\n\u001b[0;32m    216\u001b[0m \u001b[38;5;28;01mreturn\u001b[39;00m intake_cat\n",
      "File \u001b[1;32m~\\anaconda3\\envs\\scivision\\lib\\site-packages\\intake\\__init__.py:168\u001b[0m, in \u001b[0;36mopen_catalog\u001b[1;34m(uri, **kwargs)\u001b[0m\n\u001b[0;32m    165\u001b[0m \u001b[38;5;28;01mif\u001b[39;00m driver \u001b[38;5;129;01mnot\u001b[39;00m \u001b[38;5;129;01min\u001b[39;00m registry:\n\u001b[0;32m    166\u001b[0m     \u001b[38;5;28;01mraise\u001b[39;00m \u001b[38;5;167;01mValueError\u001b[39;00m(\u001b[38;5;124m'\u001b[39m\u001b[38;5;124mUnknown catalog driver (\u001b[39m\u001b[38;5;132;01m%s\u001b[39;00m\u001b[38;5;124m), supply one of: \u001b[39m\u001b[38;5;132;01m%s\u001b[39;00m\u001b[38;5;124m'\u001b[39m\n\u001b[0;32m    167\u001b[0m                      \u001b[38;5;241m%\u001b[39m (driver, \u001b[38;5;28mlist\u001b[39m(\u001b[38;5;28msorted\u001b[39m(registry))))\n\u001b[1;32m--> 168\u001b[0m \u001b[38;5;28;01mreturn\u001b[39;00m registry[driver](uri, \u001b[38;5;241m*\u001b[39m\u001b[38;5;241m*\u001b[39mkwargs)\n",
      "File \u001b[1;32m~\\anaconda3\\envs\\scivision\\lib\\site-packages\\intake\\catalog\\local.py:579\u001b[0m, in \u001b[0;36mYAMLFileCatalog.__init__\u001b[1;34m(self, path, text, autoreload, **kwargs)\u001b[0m\n\u001b[0;32m    577\u001b[0m \u001b[38;5;28mself\u001b[39m\u001b[38;5;241m.\u001b[39mfilesystem \u001b[38;5;241m=\u001b[39m kwargs\u001b[38;5;241m.\u001b[39mpop(\u001b[38;5;124m'\u001b[39m\u001b[38;5;124mfs\u001b[39m\u001b[38;5;124m'\u001b[39m, \u001b[38;5;28;01mNone\u001b[39;00m)\n\u001b[0;32m    578\u001b[0m \u001b[38;5;28mself\u001b[39m\u001b[38;5;241m.\u001b[39maccess \u001b[38;5;241m=\u001b[39m \u001b[38;5;124m\"\u001b[39m\u001b[38;5;124mname\u001b[39m\u001b[38;5;124m\"\u001b[39m \u001b[38;5;129;01mnot\u001b[39;00m \u001b[38;5;129;01min\u001b[39;00m kwargs\n\u001b[1;32m--> 579\u001b[0m \u001b[38;5;28msuper\u001b[39m(YAMLFileCatalog, \u001b[38;5;28mself\u001b[39m)\u001b[38;5;241m.\u001b[39m\u001b[38;5;21m__init__\u001b[39m(\u001b[38;5;241m*\u001b[39m\u001b[38;5;241m*\u001b[39mkwargs)\n",
      "File \u001b[1;32m~\\anaconda3\\envs\\scivision\\lib\\site-packages\\intake\\catalog\\base.py:110\u001b[0m, in \u001b[0;36mCatalog.__init__\u001b[1;34m(self, entries, name, description, metadata, ttl, getenv, getshell, persist_mode, storage_options, user_parameters)\u001b[0m\n\u001b[0;32m    108\u001b[0m \u001b[38;5;28mself\u001b[39m\u001b[38;5;241m.\u001b[39mupdated \u001b[38;5;241m=\u001b[39m time\u001b[38;5;241m.\u001b[39mtime()\n\u001b[0;32m    109\u001b[0m \u001b[38;5;28mself\u001b[39m\u001b[38;5;241m.\u001b[39m_entries \u001b[38;5;241m=\u001b[39m entries \u001b[38;5;28;01mif\u001b[39;00m entries \u001b[38;5;129;01mis\u001b[39;00m \u001b[38;5;129;01mnot\u001b[39;00m \u001b[38;5;28;01mNone\u001b[39;00m \u001b[38;5;28;01melse\u001b[39;00m \u001b[38;5;28mself\u001b[39m\u001b[38;5;241m.\u001b[39m_make_entries_container()\n\u001b[1;32m--> 110\u001b[0m \u001b[38;5;28;43mself\u001b[39;49m\u001b[38;5;241;43m.\u001b[39;49m\u001b[43mforce_reload\u001b[49m\u001b[43m(\u001b[49m\u001b[43m)\u001b[49m\n",
      "File \u001b[1;32m~\\anaconda3\\envs\\scivision\\lib\\site-packages\\intake\\catalog\\base.py:168\u001b[0m, in \u001b[0;36mCatalog.force_reload\u001b[1;34m(self)\u001b[0m\n\u001b[0;32m    166\u001b[0m \u001b[38;5;124;03m\"\"\"Imperative reload data now\"\"\"\u001b[39;00m\n\u001b[0;32m    167\u001b[0m \u001b[38;5;28mself\u001b[39m\u001b[38;5;241m.\u001b[39mupdated \u001b[38;5;241m=\u001b[39m time\u001b[38;5;241m.\u001b[39mtime()\n\u001b[1;32m--> 168\u001b[0m \u001b[38;5;28;43mself\u001b[39;49m\u001b[38;5;241;43m.\u001b[39;49m\u001b[43m_load\u001b[49m\u001b[43m(\u001b[49m\u001b[43m)\u001b[49m\n",
      "File \u001b[1;32m~\\anaconda3\\envs\\scivision\\lib\\site-packages\\intake\\catalog\\local.py:609\u001b[0m, in \u001b[0;36mYAMLFileCatalog._load\u001b[1;34m(self, reload)\u001b[0m\n\u001b[0;32m    606\u001b[0m     file_open \u001b[38;5;241m=\u001b[39m \u001b[38;5;28mself\u001b[39m\u001b[38;5;241m.\u001b[39mfilesystem\u001b[38;5;241m.\u001b[39mopen(\u001b[38;5;28mself\u001b[39m\u001b[38;5;241m.\u001b[39mpath, mode\u001b[38;5;241m=\u001b[39m\u001b[38;5;124m'\u001b[39m\u001b[38;5;124mrb\u001b[39m\u001b[38;5;124m'\u001b[39m)\n\u001b[0;32m    607\u001b[0m \u001b[38;5;28mself\u001b[39m\u001b[38;5;241m.\u001b[39m_dir \u001b[38;5;241m=\u001b[39m get_dir(\u001b[38;5;28mself\u001b[39m\u001b[38;5;241m.\u001b[39mpath)\n\u001b[1;32m--> 609\u001b[0m \u001b[38;5;28;01mwith\u001b[39;00m file_open \u001b[38;5;28;01mas\u001b[39;00m f:\n\u001b[0;32m    610\u001b[0m     text \u001b[38;5;241m=\u001b[39m f\u001b[38;5;241m.\u001b[39mread()\u001b[38;5;241m.\u001b[39mdecode()\n\u001b[0;32m    611\u001b[0m \u001b[38;5;28;01mif\u001b[39;00m \u001b[38;5;124m\"\u001b[39m\u001b[38;5;124m!template \u001b[39m\u001b[38;5;124m\"\u001b[39m \u001b[38;5;129;01min\u001b[39;00m text:\n",
      "File \u001b[1;32m~\\anaconda3\\envs\\scivision\\lib\\site-packages\\fsspec\\core.py:103\u001b[0m, in \u001b[0;36mOpenFile.__enter__\u001b[1;34m(self)\u001b[0m\n\u001b[0;32m    100\u001b[0m \u001b[38;5;28;01mdef\u001b[39;00m \u001b[38;5;21m__enter__\u001b[39m(\u001b[38;5;28mself\u001b[39m):\n\u001b[0;32m    101\u001b[0m     mode \u001b[38;5;241m=\u001b[39m \u001b[38;5;28mself\u001b[39m\u001b[38;5;241m.\u001b[39mmode\u001b[38;5;241m.\u001b[39mreplace(\u001b[38;5;124m\"\u001b[39m\u001b[38;5;124mt\u001b[39m\u001b[38;5;124m\"\u001b[39m, \u001b[38;5;124m\"\u001b[39m\u001b[38;5;124m\"\u001b[39m)\u001b[38;5;241m.\u001b[39mreplace(\u001b[38;5;124m\"\u001b[39m\u001b[38;5;124mb\u001b[39m\u001b[38;5;124m\"\u001b[39m, \u001b[38;5;124m\"\u001b[39m\u001b[38;5;124m\"\u001b[39m) \u001b[38;5;241m+\u001b[39m \u001b[38;5;124m\"\u001b[39m\u001b[38;5;124mb\u001b[39m\u001b[38;5;124m\"\u001b[39m\n\u001b[1;32m--> 103\u001b[0m     f \u001b[38;5;241m=\u001b[39m \u001b[38;5;28;43mself\u001b[39;49m\u001b[38;5;241;43m.\u001b[39;49m\u001b[43mfs\u001b[49m\u001b[38;5;241;43m.\u001b[39;49m\u001b[43mopen\u001b[49m\u001b[43m(\u001b[49m\u001b[38;5;28;43mself\u001b[39;49m\u001b[38;5;241;43m.\u001b[39;49m\u001b[43mpath\u001b[49m\u001b[43m,\u001b[49m\u001b[43m \u001b[49m\u001b[43mmode\u001b[49m\u001b[38;5;241;43m=\u001b[39;49m\u001b[43mmode\u001b[49m\u001b[43m)\u001b[49m\n\u001b[0;32m    105\u001b[0m     \u001b[38;5;28mself\u001b[39m\u001b[38;5;241m.\u001b[39mfobjects \u001b[38;5;241m=\u001b[39m [f]\n\u001b[0;32m    107\u001b[0m     \u001b[38;5;28;01mif\u001b[39;00m \u001b[38;5;28mself\u001b[39m\u001b[38;5;241m.\u001b[39mcompression \u001b[38;5;129;01mis\u001b[39;00m \u001b[38;5;129;01mnot\u001b[39;00m \u001b[38;5;28;01mNone\u001b[39;00m:\n",
      "File \u001b[1;32m~\\anaconda3\\envs\\scivision\\lib\\site-packages\\fsspec\\spec.py:1034\u001b[0m, in \u001b[0;36mAbstractFileSystem.open\u001b[1;34m(self, path, mode, block_size, cache_options, compression, **kwargs)\u001b[0m\n\u001b[0;32m   1032\u001b[0m \u001b[38;5;28;01melse\u001b[39;00m:\n\u001b[0;32m   1033\u001b[0m     ac \u001b[38;5;241m=\u001b[39m kwargs\u001b[38;5;241m.\u001b[39mpop(\u001b[38;5;124m\"\u001b[39m\u001b[38;5;124mautocommit\u001b[39m\u001b[38;5;124m\"\u001b[39m, \u001b[38;5;129;01mnot\u001b[39;00m \u001b[38;5;28mself\u001b[39m\u001b[38;5;241m.\u001b[39m_intrans)\n\u001b[1;32m-> 1034\u001b[0m     f \u001b[38;5;241m=\u001b[39m \u001b[38;5;28mself\u001b[39m\u001b[38;5;241m.\u001b[39m_open(\n\u001b[0;32m   1035\u001b[0m         path,\n\u001b[0;32m   1036\u001b[0m         mode\u001b[38;5;241m=\u001b[39mmode,\n\u001b[0;32m   1037\u001b[0m         block_size\u001b[38;5;241m=\u001b[39mblock_size,\n\u001b[0;32m   1038\u001b[0m         autocommit\u001b[38;5;241m=\u001b[39mac,\n\u001b[0;32m   1039\u001b[0m         cache_options\u001b[38;5;241m=\u001b[39mcache_options,\n\u001b[0;32m   1040\u001b[0m         \u001b[38;5;241m*\u001b[39m\u001b[38;5;241m*\u001b[39mkwargs,\n\u001b[0;32m   1041\u001b[0m     )\n\u001b[0;32m   1042\u001b[0m     \u001b[38;5;28;01mif\u001b[39;00m compression \u001b[38;5;129;01mis\u001b[39;00m \u001b[38;5;129;01mnot\u001b[39;00m \u001b[38;5;28;01mNone\u001b[39;00m:\n\u001b[0;32m   1043\u001b[0m         \u001b[38;5;28;01mfrom\u001b[39;00m \u001b[38;5;21;01mfsspec\u001b[39;00m\u001b[38;5;21;01m.\u001b[39;00m\u001b[38;5;21;01mcompression\u001b[39;00m \u001b[38;5;28;01mimport\u001b[39;00m compr\n",
      "File \u001b[1;32m~\\anaconda3\\envs\\scivision\\lib\\site-packages\\fsspec\\implementations\\http.py:340\u001b[0m, in \u001b[0;36mHTTPFileSystem._open\u001b[1;34m(self, path, mode, block_size, autocommit, cache_type, cache_options, size, **kwargs)\u001b[0m\n\u001b[0;32m    338\u001b[0m kw[\u001b[38;5;124m\"\u001b[39m\u001b[38;5;124masynchronous\u001b[39m\u001b[38;5;124m\"\u001b[39m] \u001b[38;5;241m=\u001b[39m \u001b[38;5;28mself\u001b[39m\u001b[38;5;241m.\u001b[39masynchronous\n\u001b[0;32m    339\u001b[0m kw\u001b[38;5;241m.\u001b[39mupdate(kwargs)\n\u001b[1;32m--> 340\u001b[0m size \u001b[38;5;241m=\u001b[39m size \u001b[38;5;129;01mor\u001b[39;00m \u001b[38;5;28mself\u001b[39m\u001b[38;5;241m.\u001b[39minfo(path, \u001b[38;5;241m*\u001b[39m\u001b[38;5;241m*\u001b[39mkwargs)[\u001b[38;5;124m\"\u001b[39m\u001b[38;5;124msize\u001b[39m\u001b[38;5;124m\"\u001b[39m]\n\u001b[0;32m    341\u001b[0m session \u001b[38;5;241m=\u001b[39m sync(\u001b[38;5;28mself\u001b[39m\u001b[38;5;241m.\u001b[39mloop, \u001b[38;5;28mself\u001b[39m\u001b[38;5;241m.\u001b[39mset_session)\n\u001b[0;32m    342\u001b[0m \u001b[38;5;28;01mif\u001b[39;00m block_size \u001b[38;5;129;01mand\u001b[39;00m size:\n",
      "File \u001b[1;32m~\\anaconda3\\envs\\scivision\\lib\\site-packages\\fsspec\\asyn.py:111\u001b[0m, in \u001b[0;36msync_wrapper.<locals>.wrapper\u001b[1;34m(*args, **kwargs)\u001b[0m\n\u001b[0;32m    108\u001b[0m \u001b[38;5;129m@functools\u001b[39m\u001b[38;5;241m.\u001b[39mwraps(func)\n\u001b[0;32m    109\u001b[0m \u001b[38;5;28;01mdef\u001b[39;00m \u001b[38;5;21mwrapper\u001b[39m(\u001b[38;5;241m*\u001b[39margs, \u001b[38;5;241m*\u001b[39m\u001b[38;5;241m*\u001b[39mkwargs):\n\u001b[0;32m    110\u001b[0m     \u001b[38;5;28mself\u001b[39m \u001b[38;5;241m=\u001b[39m obj \u001b[38;5;129;01mor\u001b[39;00m args[\u001b[38;5;241m0\u001b[39m]\n\u001b[1;32m--> 111\u001b[0m     \u001b[38;5;28;01mreturn\u001b[39;00m sync(\u001b[38;5;28mself\u001b[39m\u001b[38;5;241m.\u001b[39mloop, func, \u001b[38;5;241m*\u001b[39margs, \u001b[38;5;241m*\u001b[39m\u001b[38;5;241m*\u001b[39mkwargs)\n",
      "File \u001b[1;32m~\\anaconda3\\envs\\scivision\\lib\\site-packages\\fsspec\\asyn.py:96\u001b[0m, in \u001b[0;36msync\u001b[1;34m(loop, func, timeout, *args, **kwargs)\u001b[0m\n\u001b[0;32m     94\u001b[0m     \u001b[38;5;28;01mraise\u001b[39;00m FSTimeoutError \u001b[38;5;28;01mfrom\u001b[39;00m \u001b[38;5;21;01mreturn_result\u001b[39;00m\n\u001b[0;32m     95\u001b[0m \u001b[38;5;28;01melif\u001b[39;00m \u001b[38;5;28misinstance\u001b[39m(return_result, \u001b[38;5;167;01mBaseException\u001b[39;00m):\n\u001b[1;32m---> 96\u001b[0m     \u001b[38;5;28;01mraise\u001b[39;00m return_result\n\u001b[0;32m     97\u001b[0m \u001b[38;5;28;01melse\u001b[39;00m:\n\u001b[0;32m     98\u001b[0m     \u001b[38;5;28;01mreturn\u001b[39;00m return_result\n",
      "File \u001b[1;32m~\\anaconda3\\envs\\scivision\\lib\\site-packages\\fsspec\\asyn.py:53\u001b[0m, in \u001b[0;36m_runner\u001b[1;34m(event, coro, result, timeout)\u001b[0m\n\u001b[0;32m     51\u001b[0m     coro \u001b[38;5;241m=\u001b[39m asyncio\u001b[38;5;241m.\u001b[39mwait_for(coro, timeout\u001b[38;5;241m=\u001b[39mtimeout)\n\u001b[0;32m     52\u001b[0m \u001b[38;5;28;01mtry\u001b[39;00m:\n\u001b[1;32m---> 53\u001b[0m     result[\u001b[38;5;241m0\u001b[39m] \u001b[38;5;241m=\u001b[39m \u001b[38;5;28;01mawait\u001b[39;00m coro\n\u001b[0;32m     54\u001b[0m \u001b[38;5;28;01mexcept\u001b[39;00m \u001b[38;5;167;01mException\u001b[39;00m \u001b[38;5;28;01mas\u001b[39;00m ex:\n\u001b[0;32m     55\u001b[0m     result[\u001b[38;5;241m0\u001b[39m] \u001b[38;5;241m=\u001b[39m ex\n",
      "File \u001b[1;32m~\\anaconda3\\envs\\scivision\\lib\\site-packages\\fsspec\\implementations\\http.py:404\u001b[0m, in \u001b[0;36mHTTPFileSystem._info\u001b[1;34m(self, url, **kwargs)\u001b[0m\n\u001b[0;32m    401\u001b[0m     \u001b[38;5;28;01mexcept\u001b[39;00m \u001b[38;5;167;01mException\u001b[39;00m \u001b[38;5;28;01mas\u001b[39;00m exc:\n\u001b[0;32m    402\u001b[0m         \u001b[38;5;28;01mif\u001b[39;00m policy \u001b[38;5;241m==\u001b[39m \u001b[38;5;124m\"\u001b[39m\u001b[38;5;124mget\u001b[39m\u001b[38;5;124m\"\u001b[39m:\n\u001b[0;32m    403\u001b[0m             \u001b[38;5;66;03m# If get failed, then raise a FileNotFoundError\u001b[39;00m\n\u001b[1;32m--> 404\u001b[0m             \u001b[38;5;28;01mraise\u001b[39;00m \u001b[38;5;167;01mFileNotFoundError\u001b[39;00m(url) \u001b[38;5;28;01mfrom\u001b[39;00m \u001b[38;5;21;01mexc\u001b[39;00m\n\u001b[0;32m    405\u001b[0m         logger\u001b[38;5;241m.\u001b[39mdebug(\u001b[38;5;28mstr\u001b[39m(exc))\n\u001b[0;32m    407\u001b[0m \u001b[38;5;28;01mreturn\u001b[39;00m {\u001b[38;5;124m\"\u001b[39m\u001b[38;5;124mname\u001b[39m\u001b[38;5;124m\"\u001b[39m: url, \u001b[38;5;124m\"\u001b[39m\u001b[38;5;124msize\u001b[39m\u001b[38;5;124m\"\u001b[39m: \u001b[38;5;28;01mNone\u001b[39;00m, \u001b[38;5;241m*\u001b[39m\u001b[38;5;241m*\u001b[39minfo, \u001b[38;5;124m\"\u001b[39m\u001b[38;5;124mtype\u001b[39m\u001b[38;5;124m\"\u001b[39m: \u001b[38;5;124m\"\u001b[39m\u001b[38;5;124mfile\u001b[39m\u001b[38;5;124m\"\u001b[39m}\n",
      "\u001b[1;31mFileNotFoundError\u001b[0m: https://raw.githubusercontent.com/stardist/stardist/main/releases/download/0.3.0/demo3D.zip.scivision/data.yml"
     ]
    }
   ],
   "source": [
    "data_config = load_dataset(data_url)\n",
    "data_config"
   ]
  },
  {
   "cell_type": "markdown",
   "metadata": {},
   "source": [
    "Clicking the `path` link to the location of this data config file online (in the dataset repo) reveals that there is one data source called `test_image`, and that the `intake_xarray.image.ImageSource` \"intake driver\" is being used. We can retrive the test image data in an image format which the model will accept, like so:"
   ]
  },
  {
   "cell_type": "code",
   "execution_count": 14,
   "metadata": {},
   "outputs": [
    {
     "ename": "NameError",
     "evalue": "name 'data_config' is not defined",
     "output_type": "error",
     "traceback": [
      "\u001b[1;31m---------------------------------------------------------------------------\u001b[0m",
      "\u001b[1;31mNameError\u001b[0m                                 Traceback (most recent call last)",
      "Cell \u001b[1;32mIn [14], line 1\u001b[0m\n\u001b[1;32m----> 1\u001b[0m test_image \u001b[38;5;241m=\u001b[39m data_config\u001b[38;5;241m.\u001b[39mtest_image()\u001b[38;5;241m.\u001b[39mto_dask() \u001b[38;5;66;03m# The xarray.DataArray is one format accepted by the our models\u001b[39;00m\n\u001b[0;32m      2\u001b[0m test_image\n",
      "\u001b[1;31mNameError\u001b[0m: name 'data_config' is not defined"
     ]
    }
   ],
   "source": [
    "test_image = data_config.test_image().to_dask() # The xarray.DataArray is one format accepted by the our models\n",
    "test_image"
   ]
  },
  {
   "cell_type": "markdown",
   "metadata": {},
   "source": [
    "Let's take a look at the image with `matplotlib`:"
   ]
  },
  {
   "cell_type": "code",
   "execution_count": 12,
   "metadata": {},
   "outputs": [],
   "source": [
    "import matplotlib.pyplot as plt"
   ]
  },
  {
   "cell_type": "code",
   "execution_count": 13,
   "metadata": {},
   "outputs": [
    {
     "data": {
      "text/plain": [
       "<matplotlib.image.AxesImage at 0x16f282820>"
      ]
     },
     "execution_count": 13,
     "metadata": {},
     "output_type": "execute_result"
    },
    {
     "data": {
      "image/png": "[encoded data removed]",
      "text/plain": [
       "<Figure size 432x288 with 1 Axes>"
      ]
     },
     "metadata": {
      "needs_background": "light"
     },
     "output_type": "display_data"
    }
   ],
   "source": [
    "plt.imshow(test_image)"
   ]
  },
  {
   "cell_type": "markdown",
   "metadata": {},
   "source": [
    "## Model predictions\n",
    "\n",
    "Now let's use the loaded model on the test image data we found in the via catalog."
   ]
  },
  {
   "cell_type": "code",
   "execution_count": 14,
   "metadata": {},
   "outputs": [
    {
     "name": "stdout",
     "output_type": "stream",
     "text": [
      "1/1 [==============================] - 0s 462ms/step\n"
     ]
    },
    {
     "data": {
      "text/plain": [
       "'koala : 99.78%'"
      ]
     },
     "execution_count": 14,
     "metadata": {},
     "output_type": "execute_result"
    }
   ],
   "source": [
    "resnet_model.predict(test_image)"
   ]
  },
  {
   "cell_type": "code",
   "execution_count": 15,
   "metadata": {},
   "outputs": [
    {
     "name": "stdout",
     "output_type": "stream",
     "text": [
      "1/1 [==============================] - 1s 1s/step\n"
     ]
    },
    {
     "data": {
      "text/plain": [
       "'koala : 99.73%'"
      ]
     },
     "execution_count": 15,
     "metadata": {},
     "output_type": "execute_result"
    }
   ],
   "source": [
    "densenet_model.predict(test_image)"
   ]
  },
  {
   "cell_type": "markdown",
   "metadata": {},
   "source": [
    "As you can see, the models have given predictions for the test image, with a confidence score. Check out the code in the [model repo](https://github.com/alan-turing-institute/scivision_classifier) to see how this was determined!"
   ]
  },
  {
   "cell_type": "markdown",
   "metadata": {},
   "source": [
    "## Query the default scivision model catalog\n",
    "\n",
    "Using our test Koala image dataset, let's search the scivision default catalog for other models that can be used with it:"
   ]
  },
  {
   "cell_type": "code",
   "execution_count": 16,
   "metadata": {},
   "outputs": [
    {
     "data": {
      "text/html": [
       "<div>\n",
       "<style scoped>\n",
       "    .dataframe tbody tr th:only-of-type {\n",
       "        vertical-align: middle;\n",
       "    }\n",
       "\n",
       "    .dataframe tbody tr th {\n",
       "        vertical-align: top;\n",
       "    }\n",
       "\n",
       "    .dataframe thead th {\n",
       "        text-align: right;\n",
       "    }\n",
       "</style>\n",
       "<table border=\"1\" class=\"dataframe\">\n",
       "  <thead>\n",
       "    <tr style=\"text-align: right;\">\n",
       "      <th></th>\n",
       "      <th>name</th>\n",
       "      <th>description</th>\n",
       "      <th>tasks</th>\n",
       "      <th>url</th>\n",
       "      <th>pkg_url</th>\n",
       "      <th>format</th>\n",
       "      <th>pretrained</th>\n",
       "      <th>labels_required</th>\n",
       "      <th>institution</th>\n",
       "      <th>tags</th>\n",
       "    </tr>\n",
       "  </thead>\n",
       "  <tbody>\n",
       "    <tr>\n",
       "      <th>0</th>\n",
       "      <td>model-000</td>\n",
       "      <td>None</td>\n",
       "      <td>(TaskEnum.object_detection, TaskEnum.segmentat...</td>\n",
       "      <td>https://github.com/stardist/stardist</td>\n",
       "      <td>git+https://github.com/stardist/stardist.git@main</td>\n",
       "      <td>image</td>\n",
       "      <td>True</td>\n",
       "      <td>True</td>\n",
       "      <td>(epfl,)</td>\n",
       "      <td>(2D, 3D, optical-microscopy, xray, microtomogr...</td>\n",
       "    </tr>\n",
       "    <tr>\n",
       "      <th>1</th>\n",
       "      <td>model-001</td>\n",
       "      <td>None</td>\n",
       "      <td>(TaskEnum.segmentation, TaskEnum.thresholding,...</td>\n",
       "      <td>https://github.com/danforthcenter/plantcv</td>\n",
       "      <td>git+https://github.com/danforthcenter/plantcv@...</td>\n",
       "      <td>image</td>\n",
       "      <td>True</td>\n",
       "      <td>True</td>\n",
       "      <td>(danforthcenter,)</td>\n",
       "      <td>(2D, hyperspectral, multispectral, near-infrar...</td>\n",
       "    </tr>\n",
       "    <tr>\n",
       "      <th>4</th>\n",
       "      <td>scivision-test-plugin</td>\n",
       "      <td>None</td>\n",
       "      <td>(TaskEnum.object_detection,)</td>\n",
       "      <td>https://github.com/alan-turing-institute/scivi...</td>\n",
       "      <td>git+https://github.com/alan-turing-institute/s...</td>\n",
       "      <td>image</td>\n",
       "      <td>True</td>\n",
       "      <td>False</td>\n",
       "      <td>(alan-turing-institute,)</td>\n",
       "      <td>(dummy,)</td>\n",
       "    </tr>\n",
       "    <tr>\n",
       "      <th>5</th>\n",
       "      <td>mapreader-plant</td>\n",
       "      <td>automated detection of plant patches in images...</td>\n",
       "      <td>(TaskEnum.classificiation, TaskEnum.object_det...</td>\n",
       "      <td>https://github.com/alan-turing-institute/mapre...</td>\n",
       "      <td>git+https://github.com/alan-turing-institute/m...</td>\n",
       "      <td>image</td>\n",
       "      <td>True</td>\n",
       "      <td>False</td>\n",
       "      <td>(alan-turing-institute,)</td>\n",
       "      <td>(2D, plant, phenotype, rgb, biology, agriculture)</td>\n",
       "    </tr>\n",
       "    <tr>\n",
       "      <th>6</th>\n",
       "      <td>resnet50-plantkton</td>\n",
       "      <td>automated classification of plankton images co...</td>\n",
       "      <td>(TaskEnum.classificiation,)</td>\n",
       "      <td>https://github.com/alan-turing-institute/plank...</td>\n",
       "      <td>git+https://github.com/alan-turing-institute/p...</td>\n",
       "      <td>image</td>\n",
       "      <td>True</td>\n",
       "      <td>False</td>\n",
       "      <td>(alan-turing-institute, cefas, plankton-analyt...</td>\n",
       "      <td>(2D, plankton, ecology, environmental-science)</td>\n",
       "    </tr>\n",
       "    <tr>\n",
       "      <th>8</th>\n",
       "      <td>image-classifiers</td>\n",
       "      <td>None</td>\n",
       "      <td>(TaskEnum.classificiation,)</td>\n",
       "      <td>https://github.com/alan-turing-institute/scivi...</td>\n",
       "      <td>git+https://github.com/alan-turing-institute/s...</td>\n",
       "      <td>image</td>\n",
       "      <td>True</td>\n",
       "      <td>False</td>\n",
       "      <td>(alan-turing-institute,)</td>\n",
       "      <td>(classification, 2D, image)</td>\n",
       "    </tr>\n",
       "    <tr>\n",
       "      <th>9</th>\n",
       "      <td>huggingface-classifiers</td>\n",
       "      <td>None</td>\n",
       "      <td>(TaskEnum.classificiation,)</td>\n",
       "      <td>https://github.com/alan-turing-institute/scivi...</td>\n",
       "      <td>git+https://github.com/alan-turing-institute/s...</td>\n",
       "      <td>image</td>\n",
       "      <td>True</td>\n",
       "      <td>False</td>\n",
       "      <td>(alan-turing-institute, huggingface)</td>\n",
       "      <td>(classification, 2D, image)</td>\n",
       "    </tr>\n",
       "    <tr>\n",
       "      <th>11</th>\n",
       "      <td>huggingface-object-detection</td>\n",
       "      <td>None</td>\n",
       "      <td>(TaskEnum.object_detection,)</td>\n",
       "      <td>https://github.com/alan-turing-institute/scivi...</td>\n",
       "      <td>git+https://github.com/alan-turing-institute/s...</td>\n",
       "      <td>image</td>\n",
       "      <td>True</td>\n",
       "      <td>False</td>\n",
       "      <td>(alan-turing-institute, huggingface)</td>\n",
       "      <td>()</td>\n",
       "    </tr>\n",
       "  </tbody>\n",
       "</table>\n",
       "</div>"
      ],
      "text/plain": [
       "                            name  \\\n",
       "0                      model-000   \n",
       "1                      model-001   \n",
       "4          scivision-test-plugin   \n",
       "5                mapreader-plant   \n",
       "6             resnet50-plantkton   \n",
       "8              image-classifiers   \n",
       "9        huggingface-classifiers   \n",
       "11  huggingface-object-detection   \n",
       "\n",
       "                                          description  \\\n",
       "0                                                None   \n",
       "1                                                None   \n",
       "4                                                None   \n",
       "5   automated detection of plant patches in images...   \n",
       "6   automated classification of plankton images co...   \n",
       "8                                                None   \n",
       "9                                                None   \n",
       "11                                               None   \n",
       "\n",
       "                                                tasks  \\\n",
       "0   (TaskEnum.object_detection, TaskEnum.segmentat...   \n",
       "1   (TaskEnum.segmentation, TaskEnum.thresholding,...   \n",
       "4                        (TaskEnum.object_detection,)   \n",
       "5   (TaskEnum.classificiation, TaskEnum.object_det...   \n",
       "6                         (TaskEnum.classificiation,)   \n",
       "8                         (TaskEnum.classificiation,)   \n",
       "9                         (TaskEnum.classificiation,)   \n",
       "11                       (TaskEnum.object_detection,)   \n",
       "\n",
       "                                                  url  \\\n",
       "0                https://github.com/stardist/stardist   \n",
       "1           https://github.com/danforthcenter/plantcv   \n",
       "4   https://github.com/alan-turing-institute/scivi...   \n",
       "5   https://github.com/alan-turing-institute/mapre...   \n",
       "6   https://github.com/alan-turing-institute/plank...   \n",
       "8   https://github.com/alan-turing-institute/scivi...   \n",
       "9   https://github.com/alan-turing-institute/scivi...   \n",
       "11  https://github.com/alan-turing-institute/scivi...   \n",
       "\n",
       "                                              pkg_url format  pretrained  \\\n",
       "0   git+https://github.com/stardist/stardist.git@main  image        True   \n",
       "1   git+https://github.com/danforthcenter/plantcv@...  image        True   \n",
       "4   git+https://github.com/alan-turing-institute/s...  image        True   \n",
       "5   git+https://github.com/alan-turing-institute/m...  image        True   \n",
       "6   git+https://github.com/alan-turing-institute/p...  image        True   \n",
       "8   git+https://github.com/alan-turing-institute/s...  image        True   \n",
       "9   git+https://github.com/alan-turing-institute/s...  image        True   \n",
       "11  git+https://github.com/alan-turing-institute/s...  image        True   \n",
       "\n",
       "    labels_required                                        institution  \\\n",
       "0              True                                            (epfl,)   \n",
       "1              True                                  (danforthcenter,)   \n",
       "4             False                           (alan-turing-institute,)   \n",
       "5             False                           (alan-turing-institute,)   \n",
       "6             False  (alan-turing-institute, cefas, plankton-analyt...   \n",
       "8             False                           (alan-turing-institute,)   \n",
       "9             False               (alan-turing-institute, huggingface)   \n",
       "11            False               (alan-turing-institute, huggingface)   \n",
       "\n",
       "                                                 tags  \n",
       "0   (2D, 3D, optical-microscopy, xray, microtomogr...  \n",
       "1   (2D, hyperspectral, multispectral, near-infrar...  \n",
       "4                                            (dummy,)  \n",
       "5   (2D, plant, phenotype, rgb, biology, agriculture)  \n",
       "6      (2D, plankton, ecology, environmental-science)  \n",
       "8                         (classification, 2D, image)  \n",
       "9                         (classification, 2D, image)  \n",
       "11                                                 ()  "
      ]
     },
     "execution_count": 16,
     "metadata": {},
     "output_type": "execute_result"
    }
   ],
   "source": [
    "compatible_models = default_catalog.compatible_models(\"data-003\").to_dataframe()\n",
    "compatible_models"
   ]
  },
  {
   "cell_type": "markdown",
   "metadata": {},
   "source": [
    "The `huggingface-classifiers` catalog entry can be used to load some of the most popular image classification models from [Hugging Face](https://huggingface.co/models?pipeline_tag=image-classification&sort=downloads). See the list of included models in the [model repo](https://github.com/alan-turing-institute/scivision_huggingface). As before, let's load one of the named models and run it on our test image:"
   ]
  },
  {
   "cell_type": "code",
   "execution_count": 6,
   "metadata": {},
   "outputs": [
    {
     "ename": "CalledProcessError",
     "evalue": "Command '['C:\\\\Users\\\\User\\\\anaconda3\\\\envs\\\\scivision\\\\python.exe', '-m', 'pip', 'install', '--force-reinstall', '--no-cache-dir', 'git+https://github.com/alan-turing-institute/scivision_huggingface@main#egg=scivision_huggingface']' returned non-zero exit status 1.",
     "output_type": "error",
     "traceback": [
      "\u001b[1;31m---------------------------------------------------------------------------\u001b[0m",
      "\u001b[1;31mCalledProcessError\u001b[0m                        Traceback (most recent call last)",
      "Cell \u001b[1;32mIn [6], line 2\u001b[0m\n\u001b[0;32m      1\u001b[0m huggingface_repo \u001b[38;5;241m=\u001b[39m models_catalog[models_catalog\u001b[38;5;241m.\u001b[39mname \u001b[38;5;241m==\u001b[39m \u001b[38;5;124m\"\u001b[39m\u001b[38;5;124mhuggingface-classifiers\u001b[39m\u001b[38;5;124m\"\u001b[39m]\u001b[38;5;241m.\u001b[39murl\u001b[38;5;241m.\u001b[39mitem()\n\u001b[1;32m----> 2\u001b[0m microsoft_model \u001b[38;5;241m=\u001b[39m load_pretrained_model(huggingface_repo, model\u001b[38;5;241m=\u001b[39m\u001b[38;5;124m'\u001b[39m\u001b[38;5;124mmicrosoft_swin_tiny_patch4_window7_224\u001b[39m\u001b[38;5;124m'\u001b[39m, allow_install\u001b[38;5;241m=\u001b[39m\u001b[38;5;28;01mTrue\u001b[39;00m)\n",
      "File \u001b[1;32m~\\scivision\\scivision\\koala.py:57\u001b[0m, in \u001b[0;36mkoala.<locals>.wrapped_fn\u001b[1;34m(*args, **kwargs)\u001b[0m\n\u001b[0;32m     55\u001b[0m \u001b[38;5;66;03m# now call the function, but log any exceptions\u001b[39;00m\n\u001b[0;32m     56\u001b[0m \u001b[38;5;28;01mtry\u001b[39;00m:\n\u001b[1;32m---> 57\u001b[0m     output \u001b[38;5;241m=\u001b[39m fn(\u001b[38;5;241m*\u001b[39margs, \u001b[38;5;241m*\u001b[39m\u001b[38;5;241m*\u001b[39mkwargs)\n\u001b[0;32m     58\u001b[0m \u001b[38;5;28;01mexcept\u001b[39;00m \u001b[38;5;167;01mException\u001b[39;00m \u001b[38;5;28;01mas\u001b[39;00m e:\n\u001b[0;32m     59\u001b[0m     logger\u001b[38;5;241m.\u001b[39merror(e)\n",
      "File \u001b[1;32m~\\scivision\\scivision\\io\\reader.py:173\u001b[0m, in \u001b[0;36mload_pretrained_model\u001b[1;34m(path, branch, allow_install, model, load_multiple, *args, **kwargs)\u001b[0m\n\u001b[0;32m    170\u001b[0m     \u001b[38;5;28;01massert\u001b[39;00m \u001b[38;5;124m\"\u001b[39m\u001b[38;5;124mX\u001b[39m\u001b[38;5;124m\"\u001b[39m \u001b[38;5;129;01min\u001b[39;00m config[\u001b[38;5;124m\"\u001b[39m\u001b[38;5;124mprediction_fn\u001b[39m\u001b[38;5;124m\"\u001b[39m][\u001b[38;5;124m\"\u001b[39m\u001b[38;5;124margs\u001b[39m\u001b[38;5;124m\"\u001b[39m]\u001b[38;5;241m.\u001b[39mkeys()\n\u001b[0;32m    172\u001b[0m     \u001b[38;5;66;03m# try to install the package if necessary\u001b[39;00m\n\u001b[1;32m--> 173\u001b[0m     \u001b[43minstall_package\u001b[49m\u001b[43m(\u001b[49m\u001b[43mconfig\u001b[49m\u001b[43m,\u001b[49m\u001b[43m \u001b[49m\u001b[43mallow_install\u001b[49m\u001b[38;5;241;43m=\u001b[39;49m\u001b[43mallow_install\u001b[49m\u001b[43m,\u001b[49m\u001b[43m \u001b[49m\u001b[43mbranch\u001b[49m\u001b[38;5;241;43m=\u001b[39;49m\u001b[43mbranch\u001b[49m\u001b[43m)\u001b[49m\n\u001b[0;32m    175\u001b[0m     loaded_models\u001b[38;5;241m.\u001b[39mappend(PretrainedModel(config))\n\u001b[0;32m    176\u001b[0m \u001b[38;5;28;01mif\u001b[39;00m load_multiple:\n",
      "File \u001b[1;32m~\\scivision\\scivision\\io\\installer.py:51\u001b[0m, in \u001b[0;36minstall_package\u001b[1;34m(config, allow_install, branch)\u001b[0m\n\u001b[0;32m     46\u001b[0m exists \u001b[38;5;241m=\u001b[39m _package_exists(config)\n\u001b[0;32m     48\u001b[0m \u001b[38;5;28;01mif\u001b[39;00m allow_install \u001b[38;5;241m==\u001b[39m \u001b[38;5;124m\"\u001b[39m\u001b[38;5;124mforce\u001b[39m\u001b[38;5;124m\"\u001b[39m \u001b[38;5;129;01mor\u001b[39;00m (allow_install \u001b[38;5;129;01mand\u001b[39;00m \u001b[38;5;129;01mnot\u001b[39;00m exists):\n\u001b[0;32m     49\u001b[0m     \u001b[38;5;66;03m# if a package is not already installed, there is little harm\u001b[39;00m\n\u001b[0;32m     50\u001b[0m     \u001b[38;5;66;03m# to passing the extra arguments, so these cases are combined\u001b[39;00m\n\u001b[1;32m---> 51\u001b[0m     \u001b[43m_install\u001b[49m\u001b[43m(\u001b[49m\u001b[43mpackage\u001b[49m\u001b[43m,\u001b[49m\u001b[43m \u001b[49m\u001b[43mpip_install_args\u001b[49m\u001b[38;5;241;43m=\u001b[39;49m\u001b[43m[\u001b[49m\u001b[38;5;124;43m\"\u001b[39;49m\u001b[38;5;124;43m--force-reinstall\u001b[39;49m\u001b[38;5;124;43m\"\u001b[39;49m\u001b[43m,\u001b[49m\u001b[43m \u001b[49m\u001b[38;5;124;43m\"\u001b[39;49m\u001b[38;5;124;43m--no-cache-dir\u001b[39;49m\u001b[38;5;124;43m\"\u001b[39;49m\u001b[43m]\u001b[49m\u001b[43m)\u001b[49m\n\u001b[0;32m     52\u001b[0m \u001b[38;5;28;01melif\u001b[39;00m \u001b[38;5;129;01mnot\u001b[39;00m exists:\n\u001b[0;32m     53\u001b[0m     \u001b[38;5;28;01mraise\u001b[39;00m \u001b[38;5;167;01mException\u001b[39;00m(\n\u001b[0;32m     54\u001b[0m         \u001b[38;5;124m\"\u001b[39m\u001b[38;5;124mPackage does not exist. Try installing it with: \u001b[39m\u001b[38;5;130;01m\\n\u001b[39;00m\u001b[38;5;124m\"\u001b[39m\n\u001b[0;32m     55\u001b[0m         \u001b[38;5;124mf\u001b[39m\u001b[38;5;124m\"\u001b[39m\u001b[38;5;124m`!pip install -e \u001b[39m\u001b[38;5;132;01m{\u001b[39;00mpackage\u001b[38;5;132;01m}\u001b[39;00m\u001b[38;5;124m`\u001b[39m\u001b[38;5;124m\"\u001b[39m\n\u001b[0;32m     56\u001b[0m     )\n",
      "File \u001b[1;32m~\\scivision\\scivision\\io\\installer.py:34\u001b[0m, in \u001b[0;36m_install\u001b[1;34m(package, pip_install_args)\u001b[0m\n\u001b[0;32m     31\u001b[0m \u001b[38;5;28;01mif\u001b[39;00m pip_install_args \u001b[38;5;129;01mis\u001b[39;00m \u001b[38;5;28;01mNone\u001b[39;00m:\n\u001b[0;32m     32\u001b[0m     pip_install_args \u001b[38;5;241m=\u001b[39m []\n\u001b[1;32m---> 34\u001b[0m \u001b[43msubprocess\u001b[49m\u001b[38;5;241;43m.\u001b[39;49m\u001b[43mcheck_call\u001b[49m\u001b[43m(\u001b[49m\n\u001b[0;32m     35\u001b[0m \u001b[43m    \u001b[49m\u001b[43m[\u001b[49m\u001b[43msys\u001b[49m\u001b[38;5;241;43m.\u001b[39;49m\u001b[43mexecutable\u001b[49m\u001b[43m,\u001b[49m\u001b[43m \u001b[49m\u001b[38;5;124;43m\"\u001b[39;49m\u001b[38;5;124;43m-m\u001b[39;49m\u001b[38;5;124;43m\"\u001b[39;49m\u001b[43m,\u001b[49m\u001b[43m \u001b[49m\u001b[38;5;124;43m\"\u001b[39;49m\u001b[38;5;124;43mpip\u001b[39;49m\u001b[38;5;124;43m\"\u001b[39;49m\u001b[43m,\u001b[49m\u001b[43m \u001b[49m\u001b[38;5;124;43m\"\u001b[39;49m\u001b[38;5;124;43minstall\u001b[39;49m\u001b[38;5;124;43m\"\u001b[39;49m\u001b[43m,\u001b[49m\u001b[43m \u001b[49m\u001b[38;5;241;43m*\u001b[39;49m\u001b[43mpip_install_args\u001b[49m\u001b[43m,\u001b[49m\u001b[43m \u001b[49m\u001b[43mpackage\u001b[49m\u001b[43m]\u001b[49m\n\u001b[0;32m     36\u001b[0m \u001b[43m\u001b[49m\u001b[43m)\u001b[49m\n",
      "File \u001b[1;32m~\\anaconda3\\envs\\scivision\\lib\\subprocess.py:373\u001b[0m, in \u001b[0;36mcheck_call\u001b[1;34m(*popenargs, **kwargs)\u001b[0m\n\u001b[0;32m    371\u001b[0m     \u001b[38;5;28;01mif\u001b[39;00m cmd \u001b[38;5;129;01mis\u001b[39;00m \u001b[38;5;28;01mNone\u001b[39;00m:\n\u001b[0;32m    372\u001b[0m         cmd \u001b[38;5;241m=\u001b[39m popenargs[\u001b[38;5;241m0\u001b[39m]\n\u001b[1;32m--> 373\u001b[0m     \u001b[38;5;28;01mraise\u001b[39;00m CalledProcessError(retcode, cmd)\n\u001b[0;32m    374\u001b[0m \u001b[38;5;28;01mreturn\u001b[39;00m \u001b[38;5;241m0\u001b[39m\n",
      "\u001b[1;31mCalledProcessError\u001b[0m: Command '['C:\\\\Users\\\\User\\\\anaconda3\\\\envs\\\\scivision\\\\python.exe', '-m', 'pip', 'install', '--force-reinstall', '--no-cache-dir', 'git+https://github.com/alan-turing-institute/scivision_huggingface@main#egg=scivision_huggingface']' returned non-zero exit status 1."
     ]
    }
   ],
   "source": [
    "huggingface_repo = models_catalog[models_catalog.name == \"huggingface-classifiers\"].url.item()\n",
    "microsoft_model = load_pretrained_model(huggingface_repo, model='microsoft_swin_tiny_patch4_window7_224', allow_install=True)"
   ]
  },
  {
   "cell_type": "code",
   "execution_count": 18,
   "metadata": {},
   "outputs": [
    {
     "data": {
      "text/plain": [
       "'Predicted class: koala, koala bear, kangaroo bear, native bear, Phascolarctos cinereus'"
      ]
     },
     "execution_count": 18,
     "metadata": {},
     "output_type": "execute_result"
    }
   ],
   "source": [
    "microsoft_model.predict(test_image)"
   ]
  }
 ],
 "metadata": {
  "kernelspec": {
   "display_name": "scivision3",
   "language": "python",
   "name": "scivision3"
  },
  "language_info": {
   "codemirror_mode": {
    "name": "ipython",
    "version": 3
   },
   "file_extension": ".py",
   "mimetype": "text/x-python",
   "name": "python",
   "nbconvert_exporter": "python",
   "pygments_lexer": "ipython3",
   "version": "3.9.13"
  }
 },
 "nbformat": 4,
 "nbformat_minor": 4
}
